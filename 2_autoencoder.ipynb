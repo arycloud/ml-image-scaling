{
 "cells": [
  {
   "cell_type": "markdown",
   "metadata": {},
   "source": [
    "# Deep Net\n",
    "\n",
    "Now that we've got all the data, in arrays, and normalized, it's time to train a neural net."
   ]
  },
  {
   "cell_type": "code",
   "execution_count": 73,
   "metadata": {
    "collapsed": true
   },
   "outputs": [],
   "source": [
    "import os\n",
    "from PIL import Image\n",
    "from scipy import ndimage\n",
    "import matplotlib.pyplot as plt\n",
    "import numpy as np\n",
    "import pickle\n",
    "import random\n",
    "from IPython.display import display, Markdown, clear_output\n",
    "from time import time\n",
    "import tensorflow as tf\n",
    "import math\n",
    "%matplotlib inline"
   ]
  },
  {
   "cell_type": "markdown",
   "metadata": {},
   "source": [
    "## Load preprocessed dataset"
   ]
  },
  {
   "cell_type": "code",
   "execution_count": 74,
   "metadata": {
    "collapsed": false
   },
   "outputs": [
    {
     "name": "stdout",
     "output_type": "stream",
     "text": [
      "Train shape: (15000, 128, 128), (15000, 128, 128)\n",
      "Test shape: (2500, 128, 128), (2500, 128, 128)\n",
      "Valid shape: (2500, 128, 128), (2500, 128, 128)\n"
     ]
    }
   ],
   "source": [
    "with open('data/combined.pickle', 'rb') as f:\n",
    "    data_dict = pickle.load(f)\n",
    "\n",
    "X_train = data_dict['X_train']\n",
    "y_train = data_dict['y_train']\n",
    "X_test = data_dict['X_test']\n",
    "y_test = data_dict['y_test']\n",
    "X_valid = data_dict['X_valid']\n",
    "y_valid = data_dict['y_valid']\n",
    "\n",
    "del data_dict # Free all the mallocs!\n",
    "\n",
    "print(\"Train shape: %s, %s\" % (X_train.shape, y_train.shape))\n",
    "print(\"Test shape: %s, %s\" % (X_test.shape, y_test.shape))\n",
    "print(\"Valid shape: %s, %s\" % (X_valid.shape, y_valid.shape))"
   ]
  },
  {
   "cell_type": "markdown",
   "metadata": {},
   "source": [
    "## Reformat tensor\n",
    "\n",
    "Define the size of the patch"
   ]
  },
  {
   "cell_type": "code",
   "execution_count": 76,
   "metadata": {
    "collapsed": false
   },
   "outputs": [],
   "source": [
    "patch_size = (16, 16)"
   ]
  },
  {
   "cell_type": "markdown",
   "metadata": {},
   "source": [
    "## Define a CNN"
   ]
  },
  {
   "cell_type": "code",
   "execution_count": 102,
   "metadata": {
    "collapsed": false
   },
   "outputs": [],
   "source": [
    "# hidden parameters\n",
    "n_hidden_1 = 2048 # 1st layer num features\n",
    "n_hidden_2 = 1024 # 2nd layer num features\n",
    "n_hidden_3 = 1024 # 3nd layer num features\n",
    "n_hidden_4 = 1024 # 4nd layer num features\n",
    "n_input = patch_size[0]*patch_size[1] # data shape\n",
    "\n",
    "# parameters\n",
    "training_epochs = 20\n",
    "batch_size = 256\n",
    "display_step = 1\n",
    "examples_to_show = 10\n",
    "dropout_prob = 0.9 # Do not dropout very often, the image get blurry\n",
    "\n",
    "# activation\n",
    "# activate = tf.nn.sigmoid\n",
    "# activate = tf.nn.relu\n",
    "activate = tf.tanh\n",
    "\n",
    "# This neural net is composed of 2 steps,\n",
    "# the first it encodes the data, with 1 hidden layer,\n",
    "# the second does the opposite, converts it back to\n",
    "# the original shape\n",
    "\n",
    "def bengio_glorot_init(inputs, outputs):\n",
    "    return math.sqrt(6) / (math.sqrt(inputs) + math.sqrt(outputs) + 1)\n",
    "#\n",
    "std_dev_1 = bengio_glorot_init(n_input, n_hidden_1)\n",
    "std_dev_2 = bengio_glorot_init(n_hidden_1, n_hidden_2)\n",
    "std_dev_3 = bengio_glorot_init(n_hidden_2, n_hidden_3)\n",
    "std_dev_4 = bengio_glorot_init(n_hidden_3, n_hidden_4)\n",
    "\n",
    "# Encode\n",
    "def encode(x):\n",
    "    # First layer\n",
    "    layer_1 = tf.nn.dropout(activate(tf.add(tf.matmul(x, W['encoder_h1']), b['encoder_b1'])), dropout_prob)\n",
    "    # Decoder Hidden layer with sigmoid activation #2\n",
    "    layer_2 = activate(tf.add(tf.matmul(layer_1, W['encoder_h2']), b['encoder_b2']))\n",
    "    layer_3 = activate(tf.add(tf.matmul(layer_2, W['encoder_h3']), b['encoder_b3']))\n",
    "    layer_4 = activate(tf.add(tf.matmul(layer_3, W['encoder_h4']), b['encoder_b4']))\n",
    "    return layer_4\n",
    "\n",
    "# Decode\n",
    "def decode(x):\n",
    "    # Encoder Hidden layer with sigmoid activation #1\n",
    "    layer_1 = activate(tf.add(tf.matmul(x, W['decoder_h1']), b['decoder_b1']))\n",
    "    # Decoder Hidden layer with sigmoid activation #2\n",
    "    layer_2 = activate(tf.add(tf.matmul(layer_1, W['decoder_h2']), b['decoder_b2']))\n",
    "    layer_3 = activate(tf.add(tf.matmul(layer_2, W['decoder_h3']), b['decoder_b3']))\n",
    "    layer_4 = activate(tf.add(tf.matmul(layer_3, W['decoder_h4']), b['decoder_b4']))\n",
    "    return layer_4\n",
    "\n",
    "graph = tf.Graph()\n",
    "with graph.as_default():\n",
    "\n",
    "    # input variables\n",
    "    tf_X = tf.placeholder(tf.float32, shape=(batch_size, n_input))\n",
    "    tf_y = tf.placeholder(tf.float32, shape=(batch_size, n_input))\n",
    "    tf_X_valid = tf.constant(X_valid)\n",
    "    tf_X_test = tf.constant(X_test)\n",
    "\n",
    "    # weights / slopes\n",
    "    W = {\n",
    "        'encoder_h1': tf.Variable(tf.truncated_normal([n_input, n_hidden_1], stddev=std_dev_1)),\n",
    "        'encoder_h2': tf.Variable(tf.truncated_normal([n_hidden_1, n_hidden_2], stddev=std_dev_2)),\n",
    "        'encoder_h3': tf.Variable(tf.truncated_normal([n_hidden_2, n_hidden_3], stddev=std_dev_3)),\n",
    "        'encoder_h4': tf.Variable(tf.truncated_normal([n_hidden_3, n_hidden_4], stddev=std_dev_4)),\n",
    "        'decoder_h1': tf.Variable(tf.truncated_normal([n_hidden_4, n_hidden_3], stddev=std_dev_4)),\n",
    "        'decoder_h2': tf.Variable(tf.truncated_normal([n_hidden_3, n_hidden_2], stddev=std_dev_3)),\n",
    "        'decoder_h3': tf.Variable(tf.truncated_normal([n_hidden_2, n_hidden_1], stddev=std_dev_2)),\n",
    "        'decoder_h4': tf.Variable(tf.truncated_normal([n_hidden_1, n_input], stddev=std_dev_1))\n",
    "    }\n",
    "    # biases / intercepts\n",
    "    b = {\n",
    "        'encoder_b1': tf.Variable(tf.truncated_normal([n_hidden_1], stddev=std_dev_1)),\n",
    "        'encoder_b2': tf.Variable(tf.truncated_normal([n_hidden_2], stddev=std_dev_2)),\n",
    "        'encoder_b3': tf.Variable(tf.truncated_normal([n_hidden_3], stddev=std_dev_3)),\n",
    "        'encoder_b4': tf.Variable(tf.truncated_normal([n_hidden_4], stddev=std_dev_4)),\n",
    "        'decoder_b1': tf.Variable(tf.truncated_normal([n_hidden_3], stddev=std_dev_4)),\n",
    "        'decoder_b2': tf.Variable(tf.truncated_normal([n_hidden_2], stddev=std_dev_3)),\n",
    "        'decoder_b3': tf.Variable(tf.truncated_normal([n_hidden_1], stddev=std_dev_2)),\n",
    "        'decoder_b4': tf.Variable(tf.truncated_normal([n_input], stddev=std_dev_1))\n",
    "    }\n",
    "    \n",
    "    # Execute sequence of encoding -> decoding to\n",
    "    # generate predictions\n",
    "    y_pred = decode(encode(tf_X))\n",
    "    \n",
    "    # Our goal is to reduce the mean between the originals and the predictions.\n",
    "    # This value is squared to be more aggressive with distant values\n",
    "    loss = tf.reduce_mean(tf.pow(tf_y - y_pred, 2))\n",
    "    \n",
    "    # Learning rate with exponential decay\n",
    "    global_step = tf.Variable(0, trainable=False) \n",
    "#     learning_rate = tf.train.exponential_decay(0.1 / n_hidden_1, global_step, 100000, 0.96)\n",
    "    optimizer = tf.train.GradientDescentOptimizer(0.1 / n_hidden_1).minimize(loss)\n",
    "#     optimizer = tf.train.AdagradOptimizer(0.001).minimize(loss)\n",
    "#     optimizer = tf.train.AdadeltaOptimizer(0.001).minimize(loss)\n",
    "#     optimizer =  tf.train.RMSPropOptimizer(0.1 / n_hidden_1).minimize(loss)\n",
    "    \n",
    "    # Add ops to save and restore all the variables.\n",
    "    saver = tf.train.Saver()\n"
   ]
  },
  {
   "cell_type": "code",
   "execution_count": 103,
   "metadata": {
    "collapsed": false
   },
   "outputs": [],
   "source": [
    "# Accuracy is the difference between both images\n",
    "def difference(predictions, labels):\n",
    "    return np.mean(np.abs(predictions - labels))\n",
    "#     diff = predictions - labels\n",
    "#     return np.sqrt(np.sum(diff ** 2))"
   ]
  },
  {
   "cell_type": "code",
   "execution_count": null,
   "metadata": {
    "collapsed": false,
    "scrolled": false
   },
   "outputs": [
    {
     "name": "stdout",
     "output_type": "stream",
     "text": [
      "Minibatch loss at step 200: 0.148889\n",
      "Minibatch diff: 0.303\n",
      "Validation diff: 0.309\n"
     ]
    },
    {
     "data": {
      "image/png": "[encoded data removed]",
      "text/plain": [
       "<matplotlib.figure.Figure at 0x10e951748>"
      ]
     },
     "metadata": {},
     "output_type": "display_data"
    },
    {
     "data": {
      "text/markdown": [
       "### Train results"
      ],
      "text/plain": [
       "<IPython.core.display.Markdown object>"
      ]
     },
     "metadata": {},
     "output_type": "display_data"
    },
    {
     "data": {
      "text/plain": [
       "<matplotlib.figure.Figure at 0x10c926320>"
      ]
     },
     "metadata": {},
     "output_type": "display_data"
    },
    {
     "data": {
      "image/png": "[encoded data removed]",
      "text/plain": [
       "<matplotlib.figure.Figure at 0x10f7cd710>"
      ]
     },
     "metadata": {},
     "output_type": "display_data"
    },
    {
     "data": {
      "text/markdown": [
       "### Test results"
      ],
      "text/plain": [
       "<IPython.core.display.Markdown object>"
      ]
     },
     "metadata": {},
     "output_type": "display_data"
    },
    {
     "data": {
      "image/png": "[encoded data removed]",
      "text/plain": [
       "<matplotlib.figure.Figure at 0x10cd70860>"
      ]
     },
     "metadata": {},
     "output_type": "display_data"
    },
    {
     "name": "stdout",
     "output_type": "stream",
     "text": [
      "...................................................................."
     ]
    }
   ],
   "source": [
    "save_step = 10000\n",
    "preview_step = 200\n",
    "examples_to_show = 6\n",
    "\n",
    "keep_training = True\n",
    "row_names = (\"Dataset\", \"Labels\", \"Predicted\")\n",
    "\n",
    "# Accuracy arrays to draw a chart\n",
    "minibatch_diff = [];\n",
    "val_diff = [];\n",
    "\n",
    "def show_stats():\n",
    "    handle1, = plt.plot(minibatch_diff, label=\"train difference\")\n",
    "    handle2, = plt.plot(val_diff, label=\"validation difference\")\n",
    "    plt.legend([handle1, handle2], loc=\"best\")\n",
    "    plt.show()\n",
    "    plt.draw()\n",
    "\n",
    "def show_plot(train, labels, predictions):\n",
    "    # Compare original images with their reconstructions\n",
    "    f, a = plt.subplots(3, examples_to_show, figsize=(examples_to_show, 3))\n",
    "    # Hide labels\n",
    "    for axis in f.axes:\n",
    "        axis.set_xticks([])\n",
    "        axis.set_yticks([])\n",
    "    # Row names\n",
    "    for axis, row_name in zip(a[:,0], row_names):\n",
    "        axis.set_title(row_name)\n",
    "\n",
    "    for i in range(examples_to_show):\n",
    "        image_shape = patch_size\n",
    "        a[0][i].imshow(np.reshape(train[i], image_shape), cmap=\"gray\", interpolation=\"nearest\")\n",
    "        a[1][i].imshow(np.reshape(labels[i], image_shape), cmap=\"gray\", interpolation=\"nearest\")\n",
    "        a[2][i].imshow(np.reshape(predictions[i], image_shape), cmap=\"gray\", interpolation=\"nearest\")\n",
    "    f.tight_layout()\n",
    "    plt.show()\n",
    "    \n",
    "def get_patches(dataset, labels, batch_start):\n",
    "    batch_data = np.empty((batch_size, patch_size[0]*patch_size[1]))\n",
    "    batch_labels = np.empty((batch_size, patch_size[0]*patch_size[1]))\n",
    "    \n",
    "    for i in range(batch_size):\n",
    "        \n",
    "        # SGD\n",
    "        x = random.randint(0, dataset.shape[1] - patch_size[0])\n",
    "        y = random.randint(0, dataset.shape[2] - patch_size[1])\n",
    "        data_w = dataset[batch_start+i, x: x+patch_size[0], y: y+patch_size[1]]\n",
    "        label_w = labels[batch_start+i, x: x+patch_size[0], y: y+patch_size[1]]\n",
    "\n",
    "        batch_data[i] = np.array(data_w).reshape((1, batch_data.shape[1]))\n",
    "        batch_labels[i] = np.array(label_w).reshape((1, batch_labels.shape[1]))\n",
    "    return (batch_data, batch_labels)\n",
    "    \n",
    "with tf.Session(graph=graph) as session:\n",
    "    tf.initialize_all_variables().run()\n",
    "    \n",
    "    print('Initialized')\n",
    "    step = 0;\n",
    "    while keep_training:\n",
    "        print(\".\", end=\"\")\n",
    "        \n",
    "        batch_start = random.randint(0, X_train.shape[0] - batch_size - 1)\n",
    "        batch_data, batch_labels = get_patches(X_train, y_train, batch_start)\n",
    "            \n",
    "        # Data passed into the session\n",
    "        feed_dict = {\n",
    "            tf_X : batch_data, \n",
    "            tf_y : batch_labels,\n",
    "            global_step: step\n",
    "        }\n",
    "        \n",
    "        # Run session\n",
    "        _, l = session.run([optimizer, loss], feed_dict=feed_dict)\n",
    "        \n",
    "        # Increment global step to decrease learning ratio\n",
    "        step = step + 1\n",
    "        \n",
    "        # Showing training progress with a chart and images\n",
    "        if (step % preview_step == 0):\n",
    "            train_predictions = session.run(y_pred, feed_dict= feed_dict)\n",
    "            m_diff = difference(train_predictions, batch_labels)\n",
    "            minibatch_diff.append(m_diff)\n",
    "            \n",
    "            # Validation score\n",
    "            valid_batches = int(X_valid.shape[0]/batch_size)\n",
    "            v_total = []\n",
    "            for i in range(valid_batches):\n",
    "                offset = i * batch_size\n",
    "                valid_data, valid_labels = get_patches(X_valid, y_valid, offset)\n",
    "                valid_predictions = session.run(y_pred, feed_dict= {\n",
    "                    tf_X : valid_data\n",
    "                })\n",
    "                v_total.append(difference(valid_predictions, valid_labels))\n",
    "            v_diff = sum(v_total) / len(v_total)\n",
    "            val_diff.append(v_diff)\n",
    "            \n",
    "            # Validation images\n",
    "            random_batch = random.randint(0, valid_batches-1)\n",
    "            valid_data, valid_labels = get_patches(X_valid, y_valid, random_batch * batch_size)\n",
    "            valid_predictions = session.run(y_pred, feed_dict= {\n",
    "                tf_X : valid_data\n",
    "            })\n",
    "\n",
    "            clear_output()\n",
    "            print(\"Minibatch loss at step %d: %f\" % (step, l))\n",
    "            print(\"Minibatch diff: %.3f\" % m_diff)\n",
    "            print(\"Validation diff: %.3f\" % v_diff)\n",
    "            \n",
    "            show_stats()\n",
    "            \n",
    "            display(Markdown(\"### Train results\"))\n",
    "            show_plot(batch_data, batch_labels, train_predictions)\n",
    "            \n",
    "            display(Markdown(\"### Test results\"))\n",
    "            show_plot(valid_data, valid_labels, valid_predictions)\n",
    "\n",
    "            \n",
    "        if (step % save_step == 0):\n",
    "            save_path = saver.save(session, (\"model_global_step_%s_chart_step_%s.ckpt\" % (step, len(minibatch_diff))))\n",
    "            print(\"Model saved in file: %s\" % save_path)\n",
    "            \n",
    "#     test_predictions = session.run(y_pred, feed_dict= {\n",
    "#         tf_X: X_test[:n_hidden_1]\n",
    "#     })\n",
    "#     print('Test difference: %.1f' % difference(test_predictions[:n_hidden_1], y_test[:n_hidden_1]))"
   ]
  },
  {
   "cell_type": "code",
   "execution_count": null,
   "metadata": {
    "collapsed": true
   },
   "outputs": [],
   "source": [
    "\n",
    "\n",
    "\n",
    "\n",
    "\n",
    "\n",
    "\n",
    "\n",
    "\n",
    "\n",
    "\n",
    "\n",
    "\n",
    "\n",
    "\n",
    "\n",
    "\n",
    "\n",
    "\n",
    "\n",
    "\n",
    "\n",
    "\n",
    "\n",
    "\n",
    "\n",
    "\n",
    "\n",
    "\n",
    "\n",
    "\n",
    "\n",
    "\n",
    "\n",
    "\n",
    "\n",
    "\n",
    "\n",
    "\n",
    "\n",
    "\n",
    "\n",
    "\n",
    "\n",
    "\n",
    "\n",
    "\n",
    "\n",
    "\n",
    "\n",
    "\n",
    "\n",
    "\n"
   ]
  },
  {
   "cell_type": "code",
   "execution_count": null,
   "metadata": {
    "collapsed": true
   },
   "outputs": [],
   "source": []
  }
 ],
 "metadata": {
  "kernelspec": {
   "display_name": "Python 3",
   "language": "python",
   "name": "python3"
  },
  "language_info": {
   "codemirror_mode": {
    "name": "ipython",
    "version": 3
   },
   "file_extension": ".py",
   "mimetype": "text/x-python",
   "name": "python",
   "nbconvert_exporter": "python",
   "pygments_lexer": "ipython3",
   "version": "3.5.2"
  }
 },
 "nbformat": 4,
 "nbformat_minor": 1
}
