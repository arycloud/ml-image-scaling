{
 "cells": [
  {
   "cell_type": "markdown",
   "metadata": {},
   "source": [
    "# Deep Net\n",
    "\n",
    "Now that we've got all the data, in arrays, and normalized, it's time to train a neural net."
   ]
  },
  {
   "cell_type": "code",
   "execution_count": 1,
   "metadata": {
    "collapsed": true
   },
   "outputs": [],
   "source": [
    "import os\n",
    "from PIL import Image\n",
    "from scipy import ndimage\n",
    "import matplotlib.pyplot as plt\n",
    "import numpy as np\n",
    "import pickle\n",
    "import random\n",
    "from IPython.display import display, Markdown, clear_output\n",
    "from time import time\n",
    "import tensorflow as tf\n",
    "import math\n",
    "%matplotlib inline"
   ]
  },
  {
   "cell_type": "markdown",
   "metadata": {},
   "source": [
    "## Load preprocessed dataset"
   ]
  },
  {
   "cell_type": "code",
   "execution_count": 2,
   "metadata": {
    "collapsed": false
   },
   "outputs": [
    {
     "name": "stdout",
     "output_type": "stream",
     "text": [
      "Train shape: (15000, 128, 128), (15000, 128, 128)\n",
      "Test shape: (2500, 128, 128), (2500, 128, 128)\n",
      "Valid shape: (2500, 128, 128), (2500, 128, 128)\n"
     ]
    }
   ],
   "source": [
    "with open('data/combined.pickle', 'rb') as f:\n",
    "    data_dict = pickle.load(f)\n",
    "\n",
    "X_train = data_dict['X_train']\n",
    "y_train = data_dict['y_train']\n",
    "X_test = data_dict['X_test']\n",
    "y_test = data_dict['y_test']\n",
    "X_valid = data_dict['X_valid']\n",
    "y_valid = data_dict['y_valid']\n",
    "\n",
    "del data_dict # Free all the mallocs!\n",
    "\n",
    "print(\"Train shape: %s, %s\" % (X_train.shape, y_train.shape))\n",
    "print(\"Test shape: %s, %s\" % (X_test.shape, y_test.shape))\n",
    "print(\"Valid shape: %s, %s\" % (X_valid.shape, y_valid.shape))"
   ]
  },
  {
   "cell_type": "markdown",
   "metadata": {},
   "source": [
    "## Reformat tensor\n",
    "\n",
    "Define the size of the patch"
   ]
  },
  {
   "cell_type": "code",
   "execution_count": 8,
   "metadata": {
    "collapsed": false
   },
   "outputs": [],
   "source": [
    "patch_size = (16, 16)\n",
    "patch_size_out = (16, 16)"
   ]
  },
  {
   "cell_type": "markdown",
   "metadata": {},
   "source": [
    "## Define a CNN"
   ]
  },
  {
   "cell_type": "code",
   "execution_count": 9,
   "metadata": {
    "collapsed": false
   },
   "outputs": [],
   "source": [
    "# hidden parameters\n",
    "n_hidden_1 = 2048 # 1st layer num features\n",
    "n_hidden_2 = 1024 # 2nd layer num features\n",
    "n_input = patch_size[0]*patch_size[1] # data shape\n",
    "n_output = patch_size_out[0]*patch_size_out[1] # data shape\n",
    "\n",
    "# parameters\n",
    "training_epochs = 20\n",
    "batch_size = 256\n",
    "display_step = 1\n",
    "examples_to_show = 10\n",
    "\n",
    "# activation\n",
    "# activate = tf.nn.sigmoid\n",
    "# activate = tf.nn.relu\n",
    "activate = tf.tanh\n",
    "\n",
    "# This neural net is composed of 2 steps,\n",
    "# the first it encodes the data, with 1 hidden layer,\n",
    "# the second does the opposite, converts it back to\n",
    "# the original shape\n",
    "\n",
    "def bengio_glorot_init(inputs, outputs):\n",
    "    return math.sqrt(6) / (math.sqrt(inputs) + math.sqrt(outputs) + 1)\n",
    "#\n",
    "std_dev_1 = bengio_glorot_init(n_input, n_hidden_1)\n",
    "std_dev_2 = bengio_glorot_init(n_hidden_1, n_hidden_2)\n",
    "\n",
    "# Encode\n",
    "def encode(x):\n",
    "    # First layer\n",
    "    layer_1 = activate(tf.add(tf.matmul(x, W['encoder_h1']), b['encoder_b1']))\n",
    "    # Decoder Hidden layer with sigmoid activation #2\n",
    "    layer_2 = activate(tf.add(tf.matmul(layer_1, W['encoder_h2']), b['encoder_b2']))\n",
    "    return layer_2\n",
    "\n",
    "# Decode\n",
    "def decode(x):\n",
    "    # Encoder Hidden layer with sigmoid activation #1\n",
    "    layer_1 = activate(tf.add(tf.matmul(x, W['decoder_h1']), b['decoder_b1']))\n",
    "    # Decoder Hidden layer with sigmoid activation #2\n",
    "    layer_2 = activate(tf.add(tf.matmul(layer_1, W['decoder_h2']), b['decoder_b2']))\n",
    "    return layer_2\n",
    "\n",
    "graph = tf.Graph()\n",
    "with graph.as_default():\n",
    "\n",
    "    # input variables\n",
    "    tf_X = tf.placeholder(tf.float32, shape=(batch_size, n_input))\n",
    "    tf_y = tf.placeholder(tf.float32, shape=(batch_size, n_output))\n",
    "    tf_X_valid = tf.constant(X_valid)\n",
    "    tf_X_test = tf.constant(X_test)\n",
    "\n",
    "    # weights / slopes\n",
    "    W = {\n",
    "        'encoder_h1': tf.Variable(tf.truncated_normal([n_input, n_hidden_1], stddev=std_dev_1)),\n",
    "        'encoder_h2': tf.Variable(tf.truncated_normal([n_hidden_1, n_hidden_2], stddev=std_dev_2)),\n",
    "        'decoder_h1': tf.Variable(tf.truncated_normal([n_hidden_2, n_hidden_1], stddev=std_dev_2)),\n",
    "        'decoder_h2': tf.Variable(tf.truncated_normal([n_hidden_1, n_output], stddev=std_dev_1))\n",
    "    }\n",
    "    # biases / intercepts\n",
    "    b = {\n",
    "        'encoder_b1': tf.Variable(tf.truncated_normal([n_hidden_1], stddev=std_dev_1)),\n",
    "        'encoder_b2': tf.Variable(tf.truncated_normal([n_hidden_2], stddev=std_dev_2)),\n",
    "        'decoder_b1': tf.Variable(tf.truncated_normal([n_hidden_1], stddev=std_dev_2)),\n",
    "        'decoder_b2': tf.Variable(tf.truncated_normal([n_output], stddev=std_dev_1))\n",
    "    }\n",
    "    \n",
    "    # Execute sequence of encoding -> decoding to\n",
    "    # generate predictions\n",
    "    y_pred = decode(encode(tf_X))\n",
    "    \n",
    "    # Our goal is to reduce the mean between the originals and the predictions.\n",
    "    # This value is squared to be more aggressive with distant values\n",
    "    loss = tf.reduce_mean(tf.pow(tf_y - y_pred, 2))\n",
    "    \n",
    "    # Learning rate with exponential decay\n",
    "    global_step = tf.Variable(0, trainable=False) \n",
    "    learning_rate = tf.train.exponential_decay(0.1 / n_hidden_1, global_step, 1000000, 0.96)\n",
    "#     optimizer = tf.train.GradientDescentOptimizer(learning_rate).minimize(loss)\n",
    "#     optimizer = tf.train.AdadeltaOptimizer(0.01 / n_hidden_1).minimize(loss)\n",
    "    optimizer =  tf.train.RMSPropOptimizer(learning_rate).minimize(loss)\n",
    "    \n",
    "    # Add ops to save and restore all the variables.\n",
    "    saver = tf.train.Saver()\n"
   ]
  },
  {
   "cell_type": "code",
   "execution_count": 10,
   "metadata": {
    "collapsed": false
   },
   "outputs": [],
   "source": [
    "# Accuracy is the difference between both images\n",
    "def difference(predictions, labels):\n",
    "    return np.mean(np.abs(predictions - labels))\n",
    "#     diff = predictions - labels\n",
    "#     return np.sqrt(np.sum(diff ** 2))"
   ]
  },
  {
   "cell_type": "code",
   "execution_count": 11,
   "metadata": {
    "collapsed": false,
    "scrolled": false
   },
   "outputs": [
    {
     "name": "stdout",
     "output_type": "stream",
     "text": [
      "Minibatch loss at step 20000: 0.003037\n",
      "Minibatch diff: 0.028\n",
      "Validation diff: 0.031\n"
     ]
    },
    {
     "data": {
      "image/png": "[encoded data removed]",
      "text/plain": [
       "<matplotlib.figure.Figure at 0x7f83ae7d72b0>"
      ]
     },
     "metadata": {},
     "output_type": "display_data"
    },
    {
     "data": {
      "text/markdown": [
       "### Train results"
      ],
      "text/plain": [
       "<IPython.core.display.Markdown object>"
      ]
     },
     "metadata": {},
     "output_type": "display_data"
    },
    {
     "data": {
      "text/plain": [
       "<matplotlib.figure.Figure at 0x7f8371b34470>"
      ]
     },
     "metadata": {},
     "output_type": "display_data"
    },
    {
     "data": {
      "image/png": "[encoded data removed]",
      "text/plain": [
       "<matplotlib.figure.Figure at 0x7f8371b341d0>"
      ]
     },
     "metadata": {},
     "output_type": "display_data"
    },
    {
     "data": {
      "text/markdown": [
       "### Test results"
      ],
      "text/plain": [
       "<IPython.core.display.Markdown object>"
      ]
     },
     "metadata": {},
     "output_type": "display_data"
    },
    {
     "data": {
      "image/png": "[encoded data removed]",
      "text/plain": [
       "<matplotlib.figure.Figure at 0x7f8372fd20b8>"
      ]
     },
     "metadata": {},
     "output_type": "display_data"
    },
    {
     "name": "stdout",
     "output_type": "stream",
     "text": [
      "Model saved in file: model_global_step_20000_chart_step_41.ckpt\n"
     ]
    }
   ],
   "source": [
    "# Set this variable not a valid string to load a model\n",
    "# or to `None` to start fresh\n",
    "checkpoint = None\n",
    "\n",
    "save_step = 10000\n",
    "preview_step = 500\n",
    "examples_to_show = 6\n",
    "\n",
    "keep_training = 20001\n",
    "row_names = (\"Dataset\", \"Labels\", \"Predicted\")\n",
    "\n",
    "# Accuracy arrays to draw a chart\n",
    "train_diff = [];\n",
    "val_diff = [];\n",
    "\n",
    "def show_stats():\n",
    "    \"\"\" Print learning curve \"\"\"\n",
    "    handle1, = plt.plot(train_diff, label=\"train difference\")\n",
    "    handle2, = plt.plot(val_diff, label=\"validation difference\")\n",
    "    plt.legend([handle1, handle2], loc=\"best\")\n",
    "    plt.show()\n",
    "    plt.draw()\n",
    "\n",
    "def show_plot(train, labels, predictions):\n",
    "    \"\"\" Print an image grid \"\"\"\n",
    "    # Compare original images with their reconstructions\n",
    "    f, a = plt.subplots(3, examples_to_show, figsize=(examples_to_show, 3))\n",
    "    # Hide labels\n",
    "    for axis in f.axes:\n",
    "        axis.set_xticks([])\n",
    "        axis.set_yticks([])\n",
    "    # Row names\n",
    "    for axis, row_name in zip(a[:,0], row_names):\n",
    "        axis.set_title(row_name)\n",
    "\n",
    "    for i in range(examples_to_show):\n",
    "        a[0][i].imshow(np.reshape(train[i], patch_size), cmap=\"gray\", interpolation=\"nearest\")\n",
    "        a[1][i].imshow(np.reshape(labels[i], patch_size_out), cmap=\"gray\", interpolation=\"nearest\")\n",
    "        a[2][i].imshow(np.reshape(predictions[i], patch_size_out), cmap=\"gray\", interpolation=\"nearest\")\n",
    "    f.tight_layout()\n",
    "    plt.show()\n",
    "\n",
    "\n",
    "def get_patches(dataset, labels, batch_start):\n",
    "    \"\"\" Given an X,y array, return image patches \"\"\"\n",
    "    batch_data = np.empty((batch_size, patch_size[0]*patch_size[1]))\n",
    "    batch_labels = np.empty((batch_size, patch_size_out[0]*patch_size_out[1]))\n",
    "    \n",
    "    for i in range(batch_size):\n",
    "        \n",
    "        # Stochastic optimizer\n",
    "        x = random.randint(0, dataset.shape[1] - patch_size[0])\n",
    "        y = random.randint(0, dataset.shape[2] - patch_size[1])\n",
    "        patch_scale = float(patch_size_out[0])/patch_size[0]\n",
    "        data_w = dataset[batch_start+i, x: x+patch_size[0], y: y+patch_size[1]]\n",
    "        label_w = labels[\n",
    "            batch_start+i, \n",
    "            x*patch_scale : (x+patch_size[0])*patch_scale, \n",
    "            y*patch_scale: (y+patch_size[1])*patch_scale\n",
    "        ]\n",
    "\n",
    "        batch_data[i] = np.array(data_w).reshape((1, batch_data.shape[1]))\n",
    "        batch_labels[i] = np.array(label_w).reshape((1, batch_labels.shape[1]))\n",
    "    return (batch_data, batch_labels)\n",
    "    \n",
    "with tf.Session(graph=graph) as session:\n",
    "    \n",
    "    # Restore variables from disk.\n",
    "    if not checkpoint is None:\n",
    "        saver.restore(session, checkpoint)\n",
    "    else:\n",
    "        tf.initialize_all_variables().run()\n",
    "    \n",
    "    print('Initialized')\n",
    "    for step in range(keep_training):\n",
    "        print(\".\", end=\"\")\n",
    "        \n",
    "        batch_start = random.randint(0, X_train.shape[0] - batch_size - 1)\n",
    "        batch_data, batch_labels = get_patches(X_train, y_train, batch_start)\n",
    "            \n",
    "        # Data passed into the session\n",
    "        feed_dict = {\n",
    "            tf_X : batch_data, \n",
    "            tf_y : batch_labels,\n",
    "            global_step: step\n",
    "        }\n",
    "        \n",
    "        # Run session\n",
    "        _, l = session.run([optimizer, loss], feed_dict=feed_dict)\n",
    "        \n",
    "        # Showing training progress with a chart and images\n",
    "        if (step % preview_step == 0):\n",
    "            \n",
    "            t_total = []\n",
    "            train_batches = 3 # train n samples of 256 patches. We don't need everything to draw a graph\n",
    "            for i in range(train_batches):\n",
    "                offset = i * batch_size\n",
    "                train_data, train_labels = get_patches(X_train, y_train, offset)\n",
    "                train_predictions = session.run(y_pred, feed_dict= {\n",
    "                    tf_X : train_data\n",
    "                })\n",
    "                t_total.append(difference(train_predictions, train_labels))\n",
    "            t_diff = sum(t_total) / len(t_total)\n",
    "            train_diff.append(t_diff)\n",
    "            \n",
    "            # Validation score\n",
    "            valid_batches = int(X_valid.shape[0]/batch_size)\n",
    "            v_total = []\n",
    "            for i in range(valid_batches):\n",
    "                offset = i * batch_size\n",
    "                valid_data, valid_labels = get_patches(X_valid, y_valid, offset)\n",
    "                valid_predictions = session.run(y_pred, feed_dict= {\n",
    "                    tf_X : valid_data\n",
    "                })\n",
    "                v_total.append(difference(valid_predictions, valid_labels))\n",
    "            v_diff = sum(v_total) / len(v_total)\n",
    "            val_diff.append(v_diff)\n",
    "            \n",
    "            # Validation images\n",
    "            random_batch = random.randint(0, valid_batches-1)\n",
    "            valid_data, valid_labels = get_patches(X_valid, y_valid, random_batch * batch_size)\n",
    "            valid_predictions = session.run(y_pred, feed_dict= {\n",
    "                tf_X : valid_data\n",
    "            })\n",
    "\n",
    "            clear_output()\n",
    "            print(\"Minibatch loss at step %d: %f\" % (step, l))\n",
    "            print(\"Minibatch diff: %.3f\" % t_diff)\n",
    "            print(\"Validation diff: %.3f\" % v_diff)\n",
    "            \n",
    "            show_stats()\n",
    "            \n",
    "            display(Markdown(\"### Train results\"))\n",
    "            show_plot(train_data, train_labels, train_predictions)\n",
    "            \n",
    "            display(Markdown(\"### Test results\"))\n",
    "            show_plot(valid_data, valid_labels, valid_predictions)\n",
    "\n",
    "            \n",
    "        if (step % save_step == 0):\n",
    "            save_path = saver.save(session, (\"model_global_step_%s_chart_step_%s.ckpt\" % (step, len(train_diff))))\n",
    "            print(\"Model saved in file: %s\" % save_path)\n"
   ]
  },
  {
   "cell_type": "code",
   "execution_count": null,
   "metadata": {
    "collapsed": true
   },
   "outputs": [],
   "source": [
    "\n",
    "\n",
    "\n",
    "\n",
    "\n",
    "\n",
    "\n",
    "\n",
    "\n",
    "\n",
    "\n",
    "\n",
    "\n",
    "\n",
    "\n",
    "\n",
    "\n",
    "\n",
    "\n",
    "\n",
    "\n",
    "\n",
    "\n",
    "\n",
    "\n",
    "\n",
    "\n",
    "\n",
    "\n",
    "\n",
    "\n",
    "\n",
    "\n",
    "\n",
    "\n",
    "\n",
    "\n",
    "\n",
    "\n",
    "\n",
    "\n",
    "\n",
    "\n",
    "\n",
    "\n",
    "\n",
    "\n",
    "\n",
    "\n",
    "\n",
    "\n",
    "\n",
    "\n"
   ]
  },
  {
   "cell_type": "raw",
   "metadata": {
    "collapsed": true
   },
   "source": []
  }
 ],
 "metadata": {
  "kernelspec": {
   "display_name": "Python 3",
   "language": "python",
   "name": "python3"
  },
  "language_info": {
   "codemirror_mode": {
    "name": "ipython",
    "version": 3
   },
   "file_extension": ".py",
   "mimetype": "text/x-python",
   "name": "python",
   "nbconvert_exporter": "python",
   "pygments_lexer": "ipython3",
   "version": "3.5.2"
  }
 },
 "nbformat": 4,
 "nbformat_minor": 1
}
