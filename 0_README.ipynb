{
 "cells": [
  {
   "cell_type": "markdown",
   "metadata": {},
   "source": [
    "# README\n",
    "\n",
    "These are all project requirements and necessary steps to get it up and running.\n",
    "\n",
    "First make sure you have Python 3:\n",
    "\n",
    "On a mac:\n",
    "\n",
    "```\n",
    "brew install python3\n",
    "```\n",
    "\n",
    "You'll also have to install some libraries:\n",
    "\n",
    "```bash\n",
    "pip install -r requirements.txt\n",
    "```\n",
    "\n",
    "And make sure Jupyter is running on the **Python 3** kernel:  \n",
    "\n",
    "<img src=\"https://github.com/lucasdupin/ml-image-scaling/blob/master/project_material/python3_kernel.png?raw=true\" width=\"134\" style=\"display: block; margin-left: 0\">  \n",
    "\n",
    "And follow these steps to download and install TensorFlow if you don't already have it.\n",
    "The version used on this project was 0.10:\n",
    "\n",
    "https://www.tensorflow.org/versions/r0.10/get_started/os_setup.html#download-and-setup"
   ]
  },
  {
   "cell_type": "code",
   "execution_count": null,
   "metadata": {
    "collapsed": true
   },
   "outputs": [],
   "source": []
  }
 ],
 "metadata": {
  "kernelspec": {
   "display_name": "Python 3",
   "language": "python",
   "name": "python3"
  },
  "language_info": {
   "codemirror_mode": {
    "name": "ipython",
    "version": 3
   },
   "file_extension": ".py",
   "mimetype": "text/x-python",
   "name": "python",
   "nbconvert_exporter": "python",
   "pygments_lexer": "ipython3",
   "version": "3.5.2"
  }
 },
 "nbformat": 4,
 "nbformat_minor": 1
}
