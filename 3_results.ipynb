{
 "cells": [
  {
   "cell_type": "markdown",
   "metadata": {},
   "source": [
    "# Results"
   ]
  },
  {
   "cell_type": "code",
   "execution_count": 25,
   "metadata": {
    "collapsed": false
   },
   "outputs": [
    {
     "ename": "ImportError",
     "evalue": "No module named 'skimage'",
     "output_type": "error",
     "traceback": [
      "\u001b[0;31m---------------------------------------------------------------------------\u001b[0m",
      "\u001b[0;31mImportError\u001b[0m                               Traceback (most recent call last)",
      "\u001b[0;32m<ipython-input-25-78590f9c8c2a>\u001b[0m in \u001b[0;36m<module>\u001b[0;34m()\u001b[0m\n\u001b[1;32m      4\u001b[0m \u001b[0;32mfrom\u001b[0m \u001b[0mIPython\u001b[0m\u001b[0;34m.\u001b[0m\u001b[0mdisplay\u001b[0m \u001b[0;32mimport\u001b[0m \u001b[0mImage\u001b[0m \u001b[0;32mas\u001b[0m \u001b[0miImage\u001b[0m\u001b[0;34m\u001b[0m\u001b[0m\n\u001b[1;32m      5\u001b[0m \u001b[0;32mfrom\u001b[0m \u001b[0msklearn\u001b[0m\u001b[0;34m.\u001b[0m\u001b[0mfeature_extraction\u001b[0m\u001b[0;34m.\u001b[0m\u001b[0mimage\u001b[0m \u001b[0;32mimport\u001b[0m \u001b[0mextract_patches_2d\u001b[0m\u001b[0;34m,\u001b[0m \u001b[0mreconstruct_from_patches_2d\u001b[0m\u001b[0;34m\u001b[0m\u001b[0m\n\u001b[0;32m----> 6\u001b[0;31m \u001b[0;32mfrom\u001b[0m \u001b[0mskimage\u001b[0m\u001b[0;34m.\u001b[0m\u001b[0mtransform\u001b[0m \u001b[0;32mimport\u001b[0m \u001b[0mresize\u001b[0m\u001b[0;34m\u001b[0m\u001b[0m\n\u001b[0m\u001b[1;32m      7\u001b[0m \u001b[0;34m\u001b[0m\u001b[0m\n\u001b[1;32m      8\u001b[0m \u001b[0;31m# import packages from other notebook\u001b[0m\u001b[0;34m\u001b[0m\u001b[0;34m\u001b[0m\u001b[0m\n",
      "\u001b[0;31mImportError\u001b[0m: No module named 'skimage'"
     ]
    }
   ],
   "source": [
    "# Import network graph\n",
    "import lib.notebook_finder as notebook_finder\n",
    "import autoencoder\n",
    "from IPython.display import Image as iImage\n",
    "from sklearn.feature_extraction.image import extract_patches_2d, reconstruct_from_patches_2d\n",
    "\n",
    "# import packages from other notebook\n",
    "exec(autoencoder.cells[0])\n",
    "\n",
    "# import train/validation/test data\n",
    "exec(autoencoder.cells[1])\n",
    "\n",
    "# patch size used\n",
    "exec(autoencoder.cells[2])\n",
    "\n",
    "# Import network graph\n",
    "exec(autoencoder.cells[3])"
   ]
  },
  {
   "cell_type": "markdown",
   "metadata": {},
   "source": [
    "## Define trained checkpoint"
   ]
  },
  {
   "cell_type": "code",
   "execution_count": 11,
   "metadata": {
    "collapsed": false,
    "scrolled": false
   },
   "outputs": [],
   "source": [
    "checkpoint = './model/model_global_step_2000000_chart_step_4001.ckpt'"
   ]
  },
  {
   "cell_type": "markdown",
   "metadata": {},
   "source": [
    "## Metrics\n",
    "\n",
    "The metric chosen, r2, represents the squared difference between pixels colors."
   ]
  },
  {
   "cell_type": "code",
   "execution_count": 8,
   "metadata": {
    "collapsed": false
   },
   "outputs": [
    {
     "name": "stdout",
     "output_type": "stream",
     "text": [
      "when images are the same: 0.000000\n",
      "when images are completely different: 1.000000\n"
     ]
    },
    {
     "name": "stderr",
     "output_type": "stream",
     "text": [
      "/usr/local/lib/python3.4/dist-packages/ipykernel/__main__.py:22: VisibleDeprecationWarning: using a non-integer number instead of an integer will result in an error in the future\n"
     ]
    },
    {
     "name": "stdout",
     "output_type": "stream",
     "text": [
      "Test r2: 0.062\n",
      "Validation r2: 0.062\n"
     ]
    }
   ],
   "source": [
    "# R2 function\n",
    "exec(autoencoder.cells[4])\n",
    "\n",
    "print(\"when images are the same: %f\" % difference(np.array([0,1,0]), np.array([0,1,0])))\n",
    "print(\"when images are completely different: %f\" % difference(np.array([0,1,0]), np.array([1,0,1])))\n",
    "\n",
    "def get_patches(dataset, labels, batch_start):\n",
    "    \"\"\" Given an X,y array, return image patches \"\"\"\n",
    "    batch_data = np.empty((batch_size, patch_size[0]*patch_size[1]))\n",
    "    batch_labels = np.empty((batch_size, patch_size_out[0]*patch_size_out[1]))\n",
    "    \n",
    "    for i in range(batch_size):\n",
    "        \n",
    "        # Stochastic optimizer\n",
    "        x = random.randint(0, dataset.shape[1] - patch_size[0])\n",
    "        y = random.randint(0, dataset.shape[2] - patch_size[1])\n",
    "        patch_scale = float(patch_size_out[0])/patch_size[0]\n",
    "        data_w = dataset[batch_start+i, x: x+patch_size[0], y: y+patch_size[1]]\n",
    "        label_w = labels[\n",
    "            batch_start+i, \n",
    "            x*patch_scale : (x+patch_size[0])*patch_scale, \n",
    "            y*patch_scale: (y+patch_size[1])*patch_scale\n",
    "        ]\n",
    "\n",
    "        batch_data[i] = np.array(data_w).reshape((1, batch_data.shape[1]))\n",
    "        batch_labels[i] = np.array(label_w).reshape((1, batch_labels.shape[1]))\n",
    "    return (batch_data, batch_labels)\n",
    "\n",
    "with tf.Session(graph=graph) as session:\n",
    "    \n",
    "    # Restore variables from disk.\n",
    "    if not checkpoint is None:\n",
    "        saver.restore(session, checkpoint)\n",
    "        \n",
    "        # Validation score\n",
    "        valid_batches = int(X_valid.shape[0]/batch_size)\n",
    "        v_total = []\n",
    "        for i in range(valid_batches):\n",
    "            offset = i * batch_size\n",
    "            valid_data, valid_labels = get_patches(X_valid, y_valid, offset)\n",
    "            valid_predictions = session.run(y_pred, feed_dict= {\n",
    "                tf_X : valid_data\n",
    "            })\n",
    "            v_total.append(difference(valid_predictions, valid_labels))\n",
    "        v_diff = sum(v_total) / len(v_total)\n",
    "\n",
    "        # Test score\n",
    "        t_total = []\n",
    "        test_batches = int(X_test.shape[0]/batch_size)\n",
    "        for i in range(test_batches):\n",
    "            offset = i * batch_size\n",
    "            test_data, test_labels = get_patches(X_test, y_test, offset)\n",
    "            test_predictions = session.run(y_pred, feed_dict= {\n",
    "                tf_X : test_data\n",
    "            })\n",
    "            t_total.append(difference(test_predictions, test_labels))\n",
    "        t_diff = sum(t_total) / len(t_total)\n",
    "        \n",
    "        print(\"Test r2: %.3f\" % t_diff)\n",
    "        print(\"Validation r2: %.3f\" % v_diff)\n"
   ]
  },
  {
   "cell_type": "markdown",
   "metadata": {},
   "source": [
    "## Show patches"
   ]
  },
  {
   "cell_type": "code",
   "execution_count": 12,
   "metadata": {
    "collapsed": false
   },
   "outputs": [
    {
     "data": {
      "text/markdown": [
       "### Train results"
      ],
      "text/plain": [
       "<IPython.core.display.Markdown object>"
      ]
     },
     "metadata": {},
     "output_type": "display_data"
    },
    {
     "data": {
      "image/png": "[encoded data removed]",
      "text/plain": [
       "<matplotlib.figure.Figure at 0x7f89bab34b00>"
      ]
     },
     "metadata": {},
     "output_type": "display_data"
    },
    {
     "data": {
      "text/markdown": [
       "### Test results"
      ],
      "text/plain": [
       "<IPython.core.display.Markdown object>"
      ]
     },
     "metadata": {},
     "output_type": "display_data"
    },
    {
     "data": {
      "image/png": "[encoded data removed]",
      "text/plain": [
       "<matplotlib.figure.Figure at 0x7f89ba6750f0>"
      ]
     },
     "metadata": {},
     "output_type": "display_data"
    }
   ],
   "source": [
    "examples_to_show = 6\n",
    "\n",
    "def show_plot(train, labels, predictions):\n",
    "    \"\"\" Print an image grid \"\"\"\n",
    "    \n",
    "    row_names = (\"Dataset\", \"Labels\", \"Predicted\")\n",
    "    # Compare original images with their reconstructions\n",
    "    f, a = plt.subplots(3, examples_to_show, figsize=(examples_to_show, 3))\n",
    "    # Hide labels\n",
    "    for axis in f.axes:\n",
    "        axis.set_xticks([])\n",
    "        axis.set_yticks([])\n",
    "    # Row names\n",
    "    for axis, row_name in zip(a[:,0], row_names):\n",
    "        axis.set_title(row_name)\n",
    "\n",
    "    for i in range(examples_to_show):\n",
    "        a[0][i].imshow(np.reshape(train[i], patch_size), cmap=\"gray\", interpolation=\"nearest\")\n",
    "        a[1][i].imshow(np.reshape(labels[i], patch_size_out), cmap=\"gray\", interpolation=\"nearest\")\n",
    "        a[2][i].imshow(np.reshape(predictions[i], patch_size_out), cmap=\"gray\", interpolation=\"nearest\")\n",
    "    f.tight_layout()\n",
    "    plt.show()\n",
    "\n",
    "\n",
    "with tf.Session(graph=graph) as session:\n",
    "    \n",
    "    # Restore variables from disk.\n",
    "    saver.restore(session, checkpoint)\n",
    "    \n",
    "    t_total = []\n",
    "    train_batches = 3 # train n samples of 256 patches. We don't need everything to draw a graph\n",
    "    for i in range(train_batches):\n",
    "        offset = i * batch_size\n",
    "        train_data, train_labels = get_patches(X_train, y_train, offset)\n",
    "        train_predictions = session.run(y_pred, feed_dict= {\n",
    "            tf_X : train_data\n",
    "        })\n",
    "        t_total.append(difference(train_predictions, train_labels))\n",
    "    t_diff = sum(t_total) / len(t_total)\n",
    "\n",
    "    # Validation score\n",
    "    valid_batches = int(X_valid.shape[0]/batch_size)\n",
    "    v_total = []\n",
    "    for i in range(valid_batches):\n",
    "        offset = i * batch_size\n",
    "        valid_data, valid_labels = get_patches(X_valid, y_valid, offset)\n",
    "        valid_predictions = session.run(y_pred, feed_dict= {\n",
    "            tf_X : valid_data\n",
    "        })\n",
    "        v_total.append(difference(valid_predictions, valid_labels))\n",
    "    v_diff = sum(v_total) / len(v_total)\n",
    "\n",
    "    # Validation images\n",
    "    random_batch = random.randint(0, valid_batches-1)\n",
    "    valid_data, valid_labels = get_patches(X_valid, y_valid, random_batch * batch_size)\n",
    "    valid_predictions = session.run(y_pred, feed_dict= {\n",
    "        tf_X : valid_data\n",
    "    })\n",
    "\n",
    "    clear_output()\n",
    "\n",
    "    display(Markdown(\"### Train results\"))\n",
    "    show_plot(train_data, train_labels, train_predictions)\n",
    "\n",
    "    display(Markdown(\"### Test results\"))\n",
    "    show_plot(valid_data, valid_labels, valid_predictions)\n",
    "\n"
   ]
  },
  {
   "cell_type": "markdown",
   "metadata": {},
   "source": [
    "## Recompose an image"
   ]
  },
  {
   "cell_type": "code",
   "execution_count": 49,
   "metadata": {
    "collapsed": false,
    "scrolled": false
   },
   "outputs": [
    {
     "data": {
      "text/markdown": [
       "## Low-res"
      ],
      "text/plain": [
       "<IPython.core.display.Markdown object>"
      ]
     },
     "metadata": {},
     "output_type": "display_data"
    },
    {
     "data": {
      "image/png": "[encoded data removed]",
      "text/plain": [
       "<matplotlib.figure.Figure at 0x7f89b9fb6160>"
      ]
     },
     "metadata": {},
     "output_type": "display_data"
    },
    {
     "name": "stdout",
     "output_type": "stream",
     "text": [
      "(8281, 100)\n",
      "(8281, 225)\n",
      "shape (8281, 225) (150, 150)\n",
      "(8281, 225)\n"
     ]
    },
    {
     "data": {
      "text/markdown": [
       "## Neural net output"
      ],
      "text/plain": [
       "<IPython.core.display.Markdown object>"
      ]
     },
     "metadata": {},
     "output_type": "display_data"
    },
    {
     "name": "stdout",
     "output_type": "stream",
     "text": [
      "box\n",
      "(0, 0, 15, 15)\n"
     ]
    },
    {
     "ename": "SystemError",
     "evalue": "new style getargs format but argument is not a tuple",
     "output_type": "error",
     "traceback": [
      "\u001b[0;31m---------------------------------------------------------------------------\u001b[0m",
      "\u001b[0;31mSystemError\u001b[0m                               Traceback (most recent call last)",
      "\u001b[0;32m<ipython-input-49-99ac352cdf45>\u001b[0m in \u001b[0;36m<module>\u001b[0;34m()\u001b[0m\n\u001b[1;32m     49\u001b[0m         \u001b[0mprint\u001b[0m\u001b[0;34m(\u001b[0m\u001b[0;34m\"box\"\u001b[0m\u001b[0;34m)\u001b[0m\u001b[0;34m\u001b[0m\u001b[0m\n\u001b[1;32m     50\u001b[0m         \u001b[0mprint\u001b[0m\u001b[0;34m(\u001b[0m\u001b[0mbox\u001b[0m\u001b[0;34m)\u001b[0m\u001b[0;34m\u001b[0m\u001b[0m\n\u001b[0;32m---> 51\u001b[0;31m         \u001b[0mrecomposed\u001b[0m\u001b[0;34m.\u001b[0m\u001b[0mpaste\u001b[0m\u001b[0;34m(\u001b[0m\u001b[0mout_data\u001b[0m\u001b[0;34m[\u001b[0m\u001b[0mi\u001b[0m\u001b[0;34m]\u001b[0m\u001b[0;34m,\u001b[0m \u001b[0mbox\u001b[0m\u001b[0;34m=\u001b[0m\u001b[0mbox\u001b[0m\u001b[0;34m)\u001b[0m\u001b[0;34m\u001b[0m\u001b[0m\n\u001b[0m\u001b[1;32m     52\u001b[0m     \u001b[0mprint\u001b[0m\u001b[0;34m(\u001b[0m\u001b[0;34m\"R2: %s\"\u001b[0m \u001b[0;34m%\u001b[0m \u001b[0mdifference\u001b[0m\u001b[0;34m(\u001b[0m\u001b[0mrecomposed\u001b[0m\u001b[0;34m,\u001b[0m \u001b[0mlabel\u001b[0m\u001b[0;34m)\u001b[0m\u001b[0;34m)\u001b[0m\u001b[0;34m\u001b[0m\u001b[0m\n\u001b[1;32m     53\u001b[0m     \u001b[0mplt\u001b[0m\u001b[0;34m.\u001b[0m\u001b[0mfigure\u001b[0m\u001b[0;34m(\u001b[0m\u001b[0mfigsize\u001b[0m \u001b[0;34m=\u001b[0m \u001b[0;34m(\u001b[0m\u001b[0;36m4\u001b[0m\u001b[0;34m,\u001b[0m \u001b[0;36m4\u001b[0m\u001b[0;34m)\u001b[0m\u001b[0;34m)\u001b[0m\u001b[0;34m\u001b[0m\u001b[0m\n",
      "\u001b[0;32m/usr/local/lib/python3.4/dist-packages/PIL/Image.py\u001b[0m in \u001b[0;36mpaste\u001b[0;34m(self, im, box, mask)\u001b[0m\n\u001b[1;32m   1335\u001b[0m             \u001b[0mself\u001b[0m\u001b[0;34m.\u001b[0m\u001b[0mim\u001b[0m\u001b[0;34m.\u001b[0m\u001b[0mpaste\u001b[0m\u001b[0;34m(\u001b[0m\u001b[0mim\u001b[0m\u001b[0;34m,\u001b[0m \u001b[0mbox\u001b[0m\u001b[0;34m,\u001b[0m \u001b[0mmask\u001b[0m\u001b[0;34m.\u001b[0m\u001b[0mim\u001b[0m\u001b[0;34m)\u001b[0m\u001b[0;34m\u001b[0m\u001b[0m\n\u001b[1;32m   1336\u001b[0m         \u001b[0;32melse\u001b[0m\u001b[0;34m:\u001b[0m\u001b[0;34m\u001b[0m\u001b[0m\n\u001b[0;32m-> 1337\u001b[0;31m             \u001b[0mself\u001b[0m\u001b[0;34m.\u001b[0m\u001b[0mim\u001b[0m\u001b[0;34m.\u001b[0m\u001b[0mpaste\u001b[0m\u001b[0;34m(\u001b[0m\u001b[0mim\u001b[0m\u001b[0;34m,\u001b[0m \u001b[0mbox\u001b[0m\u001b[0;34m)\u001b[0m\u001b[0;34m\u001b[0m\u001b[0m\n\u001b[0m\u001b[1;32m   1338\u001b[0m \u001b[0;34m\u001b[0m\u001b[0m\n\u001b[1;32m   1339\u001b[0m     \u001b[0;32mdef\u001b[0m \u001b[0mpoint\u001b[0m\u001b[0;34m(\u001b[0m\u001b[0mself\u001b[0m\u001b[0;34m,\u001b[0m \u001b[0mlut\u001b[0m\u001b[0;34m,\u001b[0m \u001b[0mmode\u001b[0m\u001b[0;34m=\u001b[0m\u001b[0;32mNone\u001b[0m\u001b[0;34m)\u001b[0m\u001b[0;34m:\u001b[0m\u001b[0;34m\u001b[0m\u001b[0m\n",
      "\u001b[0;31mSystemError\u001b[0m: new style getargs format but argument is not a tuple"
     ]
    }
   ],
   "source": [
    "\n",
    "with tf.Session(graph=graph) as session:\n",
    "    \n",
    "    # Restore variables from disk.\n",
    "    if not checkpoint is None:\n",
    "        saver.restore(session, checkpoint)\n",
    "    \n",
    "    # Pick a random image from the test set\n",
    "    r = random.randint(0, X_test.shape[0])\n",
    "    image = X_test[r]\n",
    "    label = y_test[r]\n",
    "    \n",
    "    # Show it\n",
    "    display(Markdown(\"## Low-res\"))\n",
    "    plt.figure(figsize = (3, 3))\n",
    "    plt.imshow(image, cmap=\"gray\", interpolation=\"nearest\")\n",
    "    plt.show()\n",
    "    \n",
    "    # Break it into small patches to be able to process it\n",
    "    data = extract_patches_2d(image, patch_size)\n",
    "    data = data.reshape((-1, patch_size[0]*patch_size[1]))\n",
    "    \n",
    "    out_data = np.zeros((data.shape[0], n_output))\n",
    "    print(data.shape)\n",
    "    print(out_data.shape)\n",
    "    \n",
    "    # Run it through the network to optimize it\n",
    "    for i in range(0, int(data.shape[0]/batch_size)):\n",
    "        # extract this batch\n",
    "        batch_range = range(i*batch_size, (i+1)*batch_size)\n",
    "        # update image again\n",
    "        out_data[batch_range] = session.run(y_pred, feed_dict= {\n",
    "            tf_X : data[batch_range]\n",
    "        })\n",
    "    \n",
    "    print(\"shape %s %s\" % (out_data.shape, label.shape))\n",
    "    out_data = out_data.reshape((-1, patch_size_out[0], patch_size_out[1]))\n",
    "    \n",
    "    print(\"%s\" % (out_data.shape,))\n",
    "    \n",
    "    # Draw it\n",
    "    display(Markdown(\"## Neural net output\"))\n",
    "    recomposed = Image.new('L', labe.shape)\n",
    "    recomposed = reconstruct_from_patches_2d(out_data, label.shape)\n",
    "    print(\"R2: %s\" % difference(recomposed, label))\n",
    "    plt.figure(figsize = (4, 4))\n",
    "    plt.imshow(recomposed, cmap=\"gray\", interpolation=\"nearest\")\n",
    "    plt.show()\n",
    "    \n",
    "    # Nearest neighbor scale\n",
    "    display(Markdown(\"## Nearest neighbor\"))\n",
    "    nearest = Image.fromarray(image).resize(label.shape)\n",
    "    print(\"R2: %s\" % difference(np.array(nearest), label))\n",
    "    plt.imshow(np.array(nearest), cmap=\"gray\", interpolation=\"nearest\")\n",
    "    plt.show()\n",
    "    \n",
    "    # Bicubic neighbor scale\n",
    "    display(Markdown(\"## Bicubic\"))\n",
    "    bicubic = Image.fromarray(image).resize(label.shape, Image.BICUBIC)\n",
    "    print(\"R2: %s\" % difference(np.array(bicubic), label))\n",
    "    plt.imshow(np.array(bicubic), cmap=\"gray\", interpolation=\"nearest\")\n",
    "    plt.show()\n",
    "    \n",
    "    # Show it\n",
    "    display(Markdown(\"## High-res\"))\n",
    "    plt.figure(figsize = (4, 4))\n",
    "    plt.imshow(label, cmap=\"gray\", interpolation=\"nearest\")\n",
    "    plt.show()\n",
    "    "
   ]
  },
  {
   "cell_type": "code",
   "execution_count": null,
   "metadata": {
    "collapsed": true
   },
   "outputs": [],
   "source": []
  }
 ],
 "metadata": {
  "kernelspec": {
   "display_name": "Python 3",
   "language": "python",
   "name": "python3"
  },
  "language_info": {
   "codemirror_mode": {
    "name": "ipython",
    "version": 3
   },
   "file_extension": ".py",
   "mimetype": "text/x-python",
   "name": "python",
   "nbconvert_exporter": "python",
   "pygments_lexer": "ipython3",
   "version": "3.4.3"
  }
 },
 "nbformat": 4,
 "nbformat_minor": 1
}
